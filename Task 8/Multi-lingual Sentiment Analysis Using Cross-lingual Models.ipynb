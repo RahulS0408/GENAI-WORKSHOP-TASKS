{
  "nbformat": 4,
  "nbformat_minor": 0,
  "metadata": {
    "colab": {
      "provenance": [],
      "gpuType": "T4"
    },
    "kernelspec": {
      "name": "python3",
      "display_name": "Python 3"
    },
    "language_info": {
      "name": "python"
    },
    "accelerator": "GPU"
  },
  "cells": [
    {
      "cell_type": "markdown",
      "source": [
        "##<B> Multi-lingual Sentiment Analysis Using Cross-lingual Models<B>##"
      ],
      "metadata": {
        "id": "nOR63SgZN7GD"
      }
    },
    {
      "cell_type": "code",
      "source": [
        "!pip install transformers\n",
        "!pip install sentencepiece\n"
      ],
      "metadata": {
        "colab": {
          "base_uri": "https://localhost:8080/"
        },
        "id": "BSYI_ZzyRNnz",
        "outputId": "827ed6d8-f967-46d2-bd35-8b8a05436e01"
      },
      "execution_count": 18,
      "outputs": [
        {
          "output_type": "stream",
          "name": "stdout",
          "text": [
            "Requirement already satisfied: transformers in /usr/local/lib/python3.10/dist-packages (4.46.2)\n",
            "Requirement already satisfied: filelock in /usr/local/lib/python3.10/dist-packages (from transformers) (3.16.1)\n",
            "Requirement already satisfied: huggingface-hub<1.0,>=0.23.2 in /usr/local/lib/python3.10/dist-packages (from transformers) (0.26.2)\n",
            "Requirement already satisfied: numpy>=1.17 in /usr/local/lib/python3.10/dist-packages (from transformers) (1.26.4)\n",
            "Requirement already satisfied: packaging>=20.0 in /usr/local/lib/python3.10/dist-packages (from transformers) (24.2)\n",
            "Requirement already satisfied: pyyaml>=5.1 in /usr/local/lib/python3.10/dist-packages (from transformers) (6.0.2)\n",
            "Requirement already satisfied: regex!=2019.12.17 in /usr/local/lib/python3.10/dist-packages (from transformers) (2024.9.11)\n",
            "Requirement already satisfied: requests in /usr/local/lib/python3.10/dist-packages (from transformers) (2.32.3)\n",
            "Requirement already satisfied: safetensors>=0.4.1 in /usr/local/lib/python3.10/dist-packages (from transformers) (0.4.5)\n",
            "Requirement already satisfied: tokenizers<0.21,>=0.20 in /usr/local/lib/python3.10/dist-packages (from transformers) (0.20.3)\n",
            "Requirement already satisfied: tqdm>=4.27 in /usr/local/lib/python3.10/dist-packages (from transformers) (4.66.6)\n",
            "Requirement already satisfied: fsspec>=2023.5.0 in /usr/local/lib/python3.10/dist-packages (from huggingface-hub<1.0,>=0.23.2->transformers) (2024.10.0)\n",
            "Requirement already satisfied: typing-extensions>=3.7.4.3 in /usr/local/lib/python3.10/dist-packages (from huggingface-hub<1.0,>=0.23.2->transformers) (4.12.2)\n",
            "Requirement already satisfied: charset-normalizer<4,>=2 in /usr/local/lib/python3.10/dist-packages (from requests->transformers) (3.4.0)\n",
            "Requirement already satisfied: idna<4,>=2.5 in /usr/local/lib/python3.10/dist-packages (from requests->transformers) (3.10)\n",
            "Requirement already satisfied: urllib3<3,>=1.21.1 in /usr/local/lib/python3.10/dist-packages (from requests->transformers) (2.2.3)\n",
            "Requirement already satisfied: certifi>=2017.4.17 in /usr/local/lib/python3.10/dist-packages (from requests->transformers) (2024.8.30)\n",
            "Requirement already satisfied: sentencepiece in /usr/local/lib/python3.10/dist-packages (0.2.0)\n"
          ]
        }
      ]
    },
    {
      "cell_type": "code",
      "source": [
        "import torch\n",
        "from transformers import XLMRobertaForSequenceClassification, XLMRobertaTokenizer\n",
        "\n",
        "# Load the pre-trained model and tokenizer\n",
        "model_name = \"cardiffnlp/twitter-xlm-roberta-base-sentiment\"\n",
        "tokenizer = XLMRobertaTokenizer.from_pretrained(model_name)\n",
        "model = XLMRobertaForSequenceClassification.from_pretrained(model_name)\n"
      ],
      "metadata": {
        "id": "X6xINkGnRaQd"
      },
      "execution_count": 19,
      "outputs": []
    },
    {
      "cell_type": "code",
      "source": [
        "def sentiment_analysis(text):\n",
        "    # Tokenize the text\n",
        "    inputs = tokenizer(text, return_tensors=\"pt\", padding=True, truncation=True, max_length=512)\n",
        "\n",
        "    # Get the model's predictions\n",
        "    with torch.no_grad():\n",
        "        outputs = model(**inputs)\n",
        "\n",
        "    # Extract the predicted sentiment\n",
        "    scores = outputs[0][0].softmax(dim=0)\n",
        "    sentiment = torch.argmax(scores).item()\n",
        "    sentiment_labels = [\"Negative\", \"Neutral\", \"Positive\"]\n",
        "\n",
        "    return sentiment_labels[sentiment], scores"
      ],
      "metadata": {
        "id": "ePcyGOG8Rdj0"
      },
      "execution_count": 20,
      "outputs": []
    },
    {
      "cell_type": "code",
      "source": [
        "# Sample texts in different languages\n",
        "texts = [\n",
        "    \"I love this product!\",  # English -\"I love this product!\" - English\n",
        "    \"Je déteste attendre.\",  # French - \"I hate waiting.\" - French\n",
        "    \"Me encanta este lugar.\",  # Spanish - \"I love this place.\" - Spanish\n",
        "    \"Ich mag das überhaupt nicht.\",  # German -\"I don't like this at all.\" - German\n",
        "    \"これは素晴らしい！\",  # Japanese - \"This is wonderful!\" - Japanese\n",
        "    \"La livraison est à l'heure mais la nourriture n'est pas bonne.\"# French - the delivery is on time but food is not good - French\n",
        "]\n",
        "\n",
        "# Analyze sentiments\n",
        "for text in texts:\n",
        "    sentiment, scores = sentiment_analysis(text)\n",
        "    print(f\"Text: {text}\\nSentiment: {sentiment}\\nScores: {scores}\\n\")\n"
      ],
      "metadata": {
        "colab": {
          "base_uri": "https://localhost:8080/"
        },
        "id": "2rtivCSHRkvd",
        "outputId": "8a53fff2-b6b3-4910-b682-8ffee1a3c55e"
      },
      "execution_count": 21,
      "outputs": [
        {
          "output_type": "stream",
          "name": "stdout",
          "text": [
            "Text: I love this product!\n",
            "Sentiment: Positive\n",
            "Scores: tensor([0.0136, 0.0516, 0.9349])\n",
            "\n",
            "Text: Je déteste attendre.\n",
            "Sentiment: Negative\n",
            "Scores: tensor([0.9344, 0.0358, 0.0298])\n",
            "\n",
            "Text: Me encanta este lugar.\n",
            "Sentiment: Positive\n",
            "Scores: tensor([0.0147, 0.0491, 0.9362])\n",
            "\n",
            "Text: Ich mag das überhaupt nicht.\n",
            "Sentiment: Negative\n",
            "Scores: tensor([0.9470, 0.0331, 0.0199])\n",
            "\n",
            "Text: これは素晴らしい！\n",
            "Sentiment: Positive\n",
            "Scores: tensor([0.0314, 0.0582, 0.9103])\n",
            "\n",
            "Text: La livraison est à l'heure mais la nourriture n'est pas bonne.\n",
            "Sentiment: Negative\n",
            "Scores: tensor([0.8531, 0.1075, 0.0394])\n",
            "\n"
          ]
        }
      ]
    }
  ]
}